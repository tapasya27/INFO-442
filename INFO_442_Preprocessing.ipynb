{
  "nbformat": 4,
  "nbformat_minor": 0,
  "metadata": {
    "colab": {
      "name": "INFO 442 - Preprocessing.ipynb",
      "provenance": [],
      "collapsed_sections": []
    },
    "kernelspec": {
      "name": "python3",
      "display_name": "Python 3"
    },
    "language_info": {
      "name": "python"
    }
  },
  "cells": [
    {
      "cell_type": "code",
      "execution_count": null,
      "metadata": {
        "id": "WzAALs6gGrrZ"
      },
      "outputs": [],
      "source": [
        "import time\n",
        "import intrinio_sdk as intrinio\n",
        "from intrinio_sdk.rest import ApiException\n",
        "import pandas as pd"
      ]
    },
    {
      "cell_type": "code",
      "source": [
        "!pip install intrinio_sdk"
      ],
      "metadata": {
        "colab": {
          "base_uri": "https://localhost:8080/"
        },
        "id": "0Q4QA9AvM9U5",
        "outputId": "f795d7ac-986a-4955-c2ca-99b85e6dbe55"
      },
      "execution_count": null,
      "outputs": [
        {
          "output_type": "stream",
          "name": "stdout",
          "text": [
            "Collecting intrinio_sdk\n",
            "  Downloading intrinio_sdk-5.18.0-py3-none-any.whl (897 kB)\n",
            "\u001b[?25l\r\u001b[K     |▍                               | 10 kB 17.4 MB/s eta 0:00:01\r\u001b[K     |▊                               | 20 kB 23.2 MB/s eta 0:00:01\r\u001b[K     |█                               | 30 kB 20.2 MB/s eta 0:00:01\r\u001b[K     |█▌                              | 40 kB 17.6 MB/s eta 0:00:01\r\u001b[K     |█▉                              | 51 kB 9.0 MB/s eta 0:00:01\r\u001b[K     |██▏                             | 61 kB 8.9 MB/s eta 0:00:01\r\u001b[K     |██▋                             | 71 kB 9.1 MB/s eta 0:00:01\r\u001b[K     |███                             | 81 kB 9.8 MB/s eta 0:00:01\r\u001b[K     |███▎                            | 92 kB 10.6 MB/s eta 0:00:01\r\u001b[K     |███▋                            | 102 kB 8.6 MB/s eta 0:00:01\r\u001b[K     |████                            | 112 kB 8.6 MB/s eta 0:00:01\r\u001b[K     |████▍                           | 122 kB 8.6 MB/s eta 0:00:01\r\u001b[K     |████▊                           | 133 kB 8.6 MB/s eta 0:00:01\r\u001b[K     |█████▏                          | 143 kB 8.6 MB/s eta 0:00:01\r\u001b[K     |█████▌                          | 153 kB 8.6 MB/s eta 0:00:01\r\u001b[K     |█████▉                          | 163 kB 8.6 MB/s eta 0:00:01\r\u001b[K     |██████▏                         | 174 kB 8.6 MB/s eta 0:00:01\r\u001b[K     |██████▋                         | 184 kB 8.6 MB/s eta 0:00:01\r\u001b[K     |███████                         | 194 kB 8.6 MB/s eta 0:00:01\r\u001b[K     |███████▎                        | 204 kB 8.6 MB/s eta 0:00:01\r\u001b[K     |███████▊                        | 215 kB 8.6 MB/s eta 0:00:01\r\u001b[K     |████████                        | 225 kB 8.6 MB/s eta 0:00:01\r\u001b[K     |████████▍                       | 235 kB 8.6 MB/s eta 0:00:01\r\u001b[K     |████████▊                       | 245 kB 8.6 MB/s eta 0:00:01\r\u001b[K     |█████████▏                      | 256 kB 8.6 MB/s eta 0:00:01\r\u001b[K     |█████████▌                      | 266 kB 8.6 MB/s eta 0:00:01\r\u001b[K     |█████████▉                      | 276 kB 8.6 MB/s eta 0:00:01\r\u001b[K     |██████████▎                     | 286 kB 8.6 MB/s eta 0:00:01\r\u001b[K     |██████████▋                     | 296 kB 8.6 MB/s eta 0:00:01\r\u001b[K     |███████████                     | 307 kB 8.6 MB/s eta 0:00:01\r\u001b[K     |███████████▎                    | 317 kB 8.6 MB/s eta 0:00:01\r\u001b[K     |███████████▊                    | 327 kB 8.6 MB/s eta 0:00:01\r\u001b[K     |████████████                    | 337 kB 8.6 MB/s eta 0:00:01\r\u001b[K     |████████████▍                   | 348 kB 8.6 MB/s eta 0:00:01\r\u001b[K     |████████████▉                   | 358 kB 8.6 MB/s eta 0:00:01\r\u001b[K     |█████████████▏                  | 368 kB 8.6 MB/s eta 0:00:01\r\u001b[K     |█████████████▌                  | 378 kB 8.6 MB/s eta 0:00:01\r\u001b[K     |█████████████▉                  | 389 kB 8.6 MB/s eta 0:00:01\r\u001b[K     |██████████████▎                 | 399 kB 8.6 MB/s eta 0:00:01\r\u001b[K     |██████████████▋                 | 409 kB 8.6 MB/s eta 0:00:01\r\u001b[K     |███████████████                 | 419 kB 8.6 MB/s eta 0:00:01\r\u001b[K     |███████████████▍                | 430 kB 8.6 MB/s eta 0:00:01\r\u001b[K     |███████████████▊                | 440 kB 8.6 MB/s eta 0:00:01\r\u001b[K     |████████████████                | 450 kB 8.6 MB/s eta 0:00:01\r\u001b[K     |████████████████▍               | 460 kB 8.6 MB/s eta 0:00:01\r\u001b[K     |████████████████▉               | 471 kB 8.6 MB/s eta 0:00:01\r\u001b[K     |█████████████████▏              | 481 kB 8.6 MB/s eta 0:00:01\r\u001b[K     |█████████████████▌              | 491 kB 8.6 MB/s eta 0:00:01\r\u001b[K     |██████████████████              | 501 kB 8.6 MB/s eta 0:00:01\r\u001b[K     |██████████████████▎             | 512 kB 8.6 MB/s eta 0:00:01\r\u001b[K     |██████████████████▋             | 522 kB 8.6 MB/s eta 0:00:01\r\u001b[K     |███████████████████             | 532 kB 8.6 MB/s eta 0:00:01\r\u001b[K     |███████████████████▍            | 542 kB 8.6 MB/s eta 0:00:01\r\u001b[K     |███████████████████▊            | 552 kB 8.6 MB/s eta 0:00:01\r\u001b[K     |████████████████████            | 563 kB 8.6 MB/s eta 0:00:01\r\u001b[K     |████████████████████▌           | 573 kB 8.6 MB/s eta 0:00:01\r\u001b[K     |████████████████████▉           | 583 kB 8.6 MB/s eta 0:00:01\r\u001b[K     |█████████████████████▏          | 593 kB 8.6 MB/s eta 0:00:01\r\u001b[K     |█████████████████████▌          | 604 kB 8.6 MB/s eta 0:00:01\r\u001b[K     |██████████████████████          | 614 kB 8.6 MB/s eta 0:00:01\r\u001b[K     |██████████████████████▎         | 624 kB 8.6 MB/s eta 0:00:01\r\u001b[K     |██████████████████████▋         | 634 kB 8.6 MB/s eta 0:00:01\r\u001b[K     |███████████████████████         | 645 kB 8.6 MB/s eta 0:00:01\r\u001b[K     |███████████████████████▍        | 655 kB 8.6 MB/s eta 0:00:01\r\u001b[K     |███████████████████████▊        | 665 kB 8.6 MB/s eta 0:00:01\r\u001b[K     |████████████████████████        | 675 kB 8.6 MB/s eta 0:00:01\r\u001b[K     |████████████████████████▌       | 686 kB 8.6 MB/s eta 0:00:01\r\u001b[K     |████████████████████████▉       | 696 kB 8.6 MB/s eta 0:00:01\r\u001b[K     |█████████████████████████▏      | 706 kB 8.6 MB/s eta 0:00:01\r\u001b[K     |█████████████████████████▋      | 716 kB 8.6 MB/s eta 0:00:01\r\u001b[K     |██████████████████████████      | 727 kB 8.6 MB/s eta 0:00:01\r\u001b[K     |██████████████████████████▎     | 737 kB 8.6 MB/s eta 0:00:01\r\u001b[K     |██████████████████████████▋     | 747 kB 8.6 MB/s eta 0:00:01\r\u001b[K     |███████████████████████████     | 757 kB 8.6 MB/s eta 0:00:01\r\u001b[K     |███████████████████████████▍    | 768 kB 8.6 MB/s eta 0:00:01\r\u001b[K     |███████████████████████████▊    | 778 kB 8.6 MB/s eta 0:00:01\r\u001b[K     |████████████████████████████▏   | 788 kB 8.6 MB/s eta 0:00:01\r\u001b[K     |████████████████████████████▌   | 798 kB 8.6 MB/s eta 0:00:01\r\u001b[K     |████████████████████████████▉   | 808 kB 8.6 MB/s eta 0:00:01\r\u001b[K     |█████████████████████████████▏  | 819 kB 8.6 MB/s eta 0:00:01\r\u001b[K     |█████████████████████████████▋  | 829 kB 8.6 MB/s eta 0:00:01\r\u001b[K     |██████████████████████████████  | 839 kB 8.6 MB/s eta 0:00:01\r\u001b[K     |██████████████████████████████▎ | 849 kB 8.6 MB/s eta 0:00:01\r\u001b[K     |██████████████████████████████▊ | 860 kB 8.6 MB/s eta 0:00:01\r\u001b[K     |███████████████████████████████ | 870 kB 8.6 MB/s eta 0:00:01\r\u001b[K     |███████████████████████████████▍| 880 kB 8.6 MB/s eta 0:00:01\r\u001b[K     |███████████████████████████████▊| 890 kB 8.6 MB/s eta 0:00:01\r\u001b[K     |████████████████████████████████| 897 kB 8.6 MB/s \n",
            "\u001b[?25hRequirement already satisfied: urllib3>=1.15 in /usr/local/lib/python3.7/dist-packages (from intrinio_sdk) (1.24.3)\n",
            "Requirement already satisfied: six>=1.10 in /usr/local/lib/python3.7/dist-packages (from intrinio_sdk) (1.15.0)\n",
            "Requirement already satisfied: certifi in /usr/local/lib/python3.7/dist-packages (from intrinio_sdk) (2021.10.8)\n",
            "Requirement already satisfied: python-dateutil in /usr/local/lib/python3.7/dist-packages (from intrinio_sdk) (2.8.2)\n",
            "Collecting retrying>=1.3.3\n",
            "  Downloading retrying-1.3.3.tar.gz (10 kB)\n",
            "Building wheels for collected packages: retrying\n",
            "  Building wheel for retrying (setup.py) ... \u001b[?25l\u001b[?25hdone\n",
            "  Created wheel for retrying: filename=retrying-1.3.3-py3-none-any.whl size=11447 sha256=13d620208fabb12f2c0ff57ad9a929e0fef3017a48980b50cc957d243ab57996\n",
            "  Stored in directory: /root/.cache/pip/wheels/f9/8d/8d/f6af3f7f9eea3553bc2fe6d53e4b287dad18b06a861ac56ddf\n",
            "Successfully built retrying\n",
            "Installing collected packages: retrying, intrinio-sdk\n",
            "Successfully installed intrinio-sdk-5.18.0 retrying-1.3.3\n"
          ]
        }
      ]
    },
    {
      "cell_type": "code",
      "source": [
        "intrinio.ApiClient().set_api_key('OjQ3MGJmNzhmNTdkYTg0Njk3Mzg0ZTIzNWI0YmE4NmVl')\n",
        "intrinio.ApiClient().allow_retries(True)"
      ],
      "metadata": {
        "id": "_tqKlDHiO0sX"
      },
      "execution_count": null,
      "outputs": []
    },
    {
      "cell_type": "code",
      "source": [
        "identifier = 'MRC'\n",
        "tag = 'leverageratio'\n",
        "frequency = 'yearly'\n",
        "type = ''\n",
        "start_date = '2012-04-18'\n",
        "end_date = ''\n",
        "sort_order = 'asc'\n",
        "page_size = 1\n",
        "next_page = ''"
      ],
      "metadata": {
        "id": "kY-8muPfMlaK"
      },
      "execution_count": null,
      "outputs": []
    },
    {
      "cell_type": "code",
      "source": [
        "response = intrinio.CompanyApi().get_company_historical_data(identifier, tag, frequency=frequency, start_date=start_date, end_date=end_date, sort_order=sort_order, page_size=page_size, next_page=next_page)"
      ],
      "metadata": {
        "id": "4dEsowtJOsWH"
      },
      "execution_count": null,
      "outputs": []
    },
    {
      "cell_type": "code",
      "source": [
        "response.historical_data[0].value"
      ],
      "metadata": {
        "colab": {
          "base_uri": "https://localhost:8080/"
        },
        "id": "pUL77b8VOuX2",
        "outputId": "3edd9e3f-d6c1-40b0-a0ff-a4049e648299"
      },
      "execution_count": null,
      "outputs": [
        {
          "output_type": "execute_result",
          "data": {
            "text/plain": [
              "3.4611"
            ]
          },
          "metadata": {},
          "execution_count": 31
        }
      ]
    },
    {
      "cell_type": "code",
      "source": [
        "datatags = [\"apturnover\",\n",
        "\"arturnover\",\n",
        "\"assetturnover\",\n",
        "\"croic\",\n",
        "\"commontocap\",\n",
        "\"currentratio\",\n",
        "\"ebitdagrowth\",\n",
        "\"ebitdaqoqgrowth\",\n",
        "\"efftaxrate\",\n",
        "\"fcffgrowth\",\n",
        "\"fcffqoqgrowth\",\n",
        "\"fcfftointerestex\",\n",
        "\"grossmargin\",\n",
        "\"investedcapitalturnover\",\n",
        "\"leverageratio\",\n",
        "\"Itdebttocap\",\n",
        "\"nnep\",\n",
        "\"operatingmargin\",\n",
        "\"profitmargin\",\n",
        "\"roe_simple\",\n",
        "\"stdebttocap\",\n",
        "\"enterprisevalue\",\n",
        "\"country\",\n",
        "\"employees\",\n",
        "\"inc_country\",\n",
        "\"security_delisted\",\n",
        "\"sic\"]"
      ],
      "metadata": {
        "id": "c_UOSh89O3Ux"
      },
      "execution_count": null,
      "outputs": []
    },
    {
      "cell_type": "code",
      "source": [
        "full_column = [\"apturnover\",\n",
        "\"arturnover\",\n",
        "\"assetturnover\",\n",
        "\"croic\",\n",
        "\"commontocap\",\n",
        "\"currentratio\",\n",
        "\"ebitdagrowth\",\n",
        "\"ebitdaqoqgrowth\",\n",
        "\"efftaxrate\",\n",
        "\"fcffgrowth\",\n",
        "\"fcffqoqgrowth\",\n",
        "\"fcfftointerestex\",\n",
        "\"grossmargin\",\n",
        "\"investedcapitalturnover\",\n",
        "\"leverageratio\",\n",
        "\"Itdebttocap\",\n",
        "\"nnep\",\n",
        "\"operatingmargin\",\n",
        "\"profitmargin\",\n",
        "\"roe_simple\",\n",
        "\"stdebttocap\",\n",
        "\"enterprisevalue\",\n",
        "\"country\",\n",
        "\"employees\",\n",
        "\"inc_country\",\n",
        "\"security_delisted\",\n",
        "\"sic\",\n",
        "\"ipo_price\",\n",
        "\"current_price\"]"
      ],
      "metadata": {
        "id": "-dBd-ruQVsKm"
      },
      "execution_count": null,
      "outputs": []
    },
    {
      "cell_type": "code",
      "source": [
        "ipo_df = pd.DataFrame(columns=full_column)"
      ],
      "metadata": {
        "id": "FykzNKwcURdo"
      },
      "execution_count": null,
      "outputs": []
    },
    {
      "cell_type": "code",
      "source": [
        "def get_all_data_tag(symbol, start_date):\n",
        "  for loop_tag in datatags:\n",
        "    identifier = symbol\n",
        "    tag = loop_tag\n",
        "    frequency = 'yearly'\n",
        "    start_date = start_date\n",
        "    end_date = ''\n",
        "    sort_order = 'asc'\n",
        "    page_size = 1\n",
        "\n",
        "    response = intrinio.CompanyApi().get_company_historical_data(identifier, tag, frequency=frequency, start_date=start_date, end_date=end_date, sort_order=sort_order, page_size=page_size)\n",
        "    tag_value = response.historical_data[0].value\n",
        "\n",
        "    ipo_df.\n",
        "    "
      ],
      "metadata": {
        "id": "dnu5YOAaQ9Sf"
      },
      "execution_count": null,
      "outputs": []
    },
    {
      "cell_type": "code",
      "source": [
        "def get_date_symbol(df):\n",
        "    df1 = pd.read_csv(df)\n",
        "    df_date_symbol = df1[['Date','Symbol']][:-1]\n",
        "    for i,r in df_date_symbol.iterrows():\n",
        "        start_date = r['Date']\n",
        "        ticker = r['Symbol']\n",
        "        #Im not sure if we want to have two lists or just one so I will keep it like this\n",
        "        print(start_date,ticker)\n",
        "    return start_date,ticker\n",
        "get_date_symbol('BZ_Pro_IPOs_Calendar_No_SPAC_Unit.csv')"
      ],
      "metadata": {
        "id": "HsGkbm3PSEaF"
      },
      "execution_count": null,
      "outputs": []
    },
    {
      "cell_type": "code",
      "source": [
        ""
      ],
      "metadata": {
        "id": "mx9j15NrPOjj"
      },
      "execution_count": null,
      "outputs": []
    }
  ]
}